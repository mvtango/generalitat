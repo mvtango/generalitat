{
 "metadata": {
  "name": ""
 },
 "nbformat": 3,
 "nbformat_minor": 0,
 "worksheets": [
  {
   "cells": [
    {
     "cell_type": "code",
     "collapsed": false,
     "input": [
      "from scrapelib import TreeScraper\n",
      "import lxml,dumptruck,sqlite3,datetime\n",
      "store=dumptruck.DumpTruck(\"../data/organigrama.db\")\n",
      "from collections import defaultdict\n",
      "import os\n",
      "\n",
      "store.create_table({'id' : '0', 'stamp' : '2013-10-01' },'entitats',create_only=True)\n",
      "store.create_table({'type' : 'new', 'oldid' : 0, 'newid' : 0, 'stamp': '2013-10-01', \"id\": '0'  },'canvis',create_only=True)\n",
      "\n",
      "store.create_index(['id'], 'entitats')\n",
      "store.create_index(['stamp'], 'entitats')\n",
      "store.create_index(['id','stamp'], 'entitats', unique = True)\n",
      "store.create_index(['type'], 'canvis')\n",
      "store.create_index(['oldid'], 'canvis')\n",
      "store.create_index(['newid'], 'canvis')\n"
     ],
     "language": "python",
     "metadata": {},
     "outputs": [],
     "prompt_number": 135
    },
    {
     "cell_type": "code",
     "collapsed": false,
     "input": [
      "def leer_organigrama(d, date=None) :\n",
      "\tunchanged=0\n",
      "\tchanged=0\n",
      "\tentitats=[]\n",
      "\tcanvis=[]\n",
      "\tids=[]\n",
      "\tif os.path.exists(d) :\n",
      "\t\tt=TreeScraper(d,base=lxml.etree.XMLParser)\n",
      "\t\td=date\n",
      "\telse :\n",
      "\t\tt=TreeScraper(\"../data/xml/%s-unitatssac.xml\" % d ,base=lxml.etree.XMLParser)\n",
      "\tfor e in t.extract(\"//item\",\n",
      "\t\t\t\t\t\t\t id='./id/text()',\n",
      "\t\t\t\t\t\t\t resp='./resp/text()', \n",
      "\t\t\t\t\t\t\t iddep='./iddep/text()',\n",
      "\t\t\t\t\t\t\t nom='./nom/text()',\n",
      "\t\t\t\t\t\t\t centres=('./centres/c', \n",
      "\t\t\t\t\t\t\t\t\t  { 'pob' : './pob/text()', \n",
      "\t\t\t\t\t\t\t\t\t\t'cp' : './cp/text()', \n",
      "\t\t\t\t\t\t\t\t\t\t'com' : './com/text()'}) ):\n",
      "                                            e.update({ 'stamp' : d })\n",
      "                                            yield e\n",
      "        \n",
      "        \n",
      "def upsert_entidad(o) :\n",
      "    has=store.execute(\"select *,rowid from entitats where id=? order by stamp desc limit 1\",(o['id'],))\n",
      "    if len(has)==0 :\n",
      "        res={ 'entitats' : o, 'canvis' : { 'type' : 'new', 'oldid' : None, 'stamp' : o['stamp'], 'id' : o['id'] } }\n",
      "        return res\n",
      "    else :\n",
      "        no=has[0]\n",
      "        same=True\n",
      "        for k in o.keys() :\n",
      "            if k in ('stamp',) :\n",
      "                continue\n",
      "            if no[k]!=o[k] :\n",
      "                same=False\n",
      "                break\n",
      "        if not same :\n",
      "            res={ 'entitats' : o , 'canvis' : {'type' : 'change', 'oldid' : no[\"rowid\"], 'stamp' : o['stamp'], 'id' : o['id'] } }\n",
      "            return res\n",
      "        else :\n",
      "            return {}\n",
      "        \n",
      "        \n",
      "def update_db(d,date=None) :\n",
      "    stats=defaultdict(lambda : 0)\n",
      "    jobs=[]\n",
      "    newest=dict([(a[\"id\"],{ 'present' : False, 'rowid' : a['rowid'], 'id' : a['id']} ) for a in store.execute(\"select id,rowid from entitats where stamp=(select max(stamp) from entitats)\")])\n",
      "    for o in leer_organigrama(d,date) :\n",
      "        r=upsert_entidad(o)\n",
      "        if r :\n",
      "            jobs.append(r)\n",
      "            stats[r[\"canvis\"][\"type\"]]+=1\n",
      "        if o[\"id\"] in newest :\n",
      "            newest[o[\"id\"]][\"present\"]=True        \n",
      "    ids=store.insert([a['entitats'] for a in jobs],'entitats')\n",
      "    canvis=[]\n",
      "    for z in zip([a[\"canvis\"] for a in jobs],ids) :\n",
      "        z[0].update({'newid': z[1]})\n",
      "        canvis.append(z[0])\n",
      "    print canvis[:5]\n",
      "    store.insert(canvis,'canvis')\n",
      "    deleted=filter(lambda a: a[\"present\"]==False, newest.values())\n",
      "    if len(deleted) :\n",
      "        stats[\"deleted\"]=len(deleted)\n",
      "        cs=[]\n",
      "        for dele in deleted :\n",
      "            cs.append({ 'type' : 'delete', 'oldid' : dele['rowid'], 'newid' : None, 'stamp' : d, 'id' : dele['id'] })\n",
      "        store.insert(cs,'canvis')\n",
      "    else :\n",
      "        stats[\"deleted\"]=0\n",
      "    return stats\n"
     ],
     "language": "python",
     "metadata": {},
     "outputs": [],
     "prompt_number": 136
    },
    {
     "cell_type": "code",
     "collapsed": false,
     "input": [
      "update_db(\"2013-06-05\")"
     ],
     "language": "python",
     "metadata": {},
     "outputs": [
      {
       "output_type": "stream",
       "stream": "stdout",
       "text": [
        "[{'stamp': '2013-06-05', 'newid': 1, 'type': 'new', 'oldid': None, 'id': '16286'}, {'stamp': '2013-06-05', 'newid': 2, 'type': 'new', 'oldid': None, 'id': '535'}, {'stamp': '2013-06-05', 'newid': 3, 'type': 'new', 'oldid': None, 'id': '3383'}, {'stamp': '2013-06-05', 'newid': 4, 'type': 'new', 'oldid': None, 'id': '18893'}, {'stamp': '2013-06-05', 'newid': 5, 'type': 'new', 'oldid': None, 'id': '5502'}]\n"
       ]
      },
      {
       "metadata": {},
       "output_type": "pyout",
       "prompt_number": 137,
       "text": [
        "defaultdict(<function <lambda> at 0x97e017c>, {'deleted': 0, 'new': 7923})"
       ]
      }
     ],
     "prompt_number": 137
    },
    {
     "cell_type": "code",
     "collapsed": false,
     "input": [
      "update_db(\"2013-06-06\")"
     ],
     "language": "python",
     "metadata": {},
     "outputs": [
      {
       "output_type": "stream",
       "stream": "stdout",
       "text": [
        "[{'stamp': '2013-06-06', 'newid': 7924, 'type': 'change', 'oldid': 2999, 'id': '15870'}, {'stamp': '2013-06-06', 'newid': 7925, 'type': 'change', 'oldid': 3303, 'id': '1732'}, {'stamp': '2013-06-06', 'newid': 7926, 'type': 'change', 'oldid': 5438, 'id': '1710'}, {'stamp': '2013-06-06', 'newid': 7927, 'type': 'change', 'oldid': 5560, 'id': '9315'}, {'stamp': '2013-06-06', 'newid': 7928, 'type': 'change', 'oldid': 5561, 'id': '9266'}]\n"
       ]
      },
      {
       "metadata": {},
       "output_type": "pyout",
       "prompt_number": 138,
       "text": [
        "defaultdict(<function <lambda> at 0xd91c304>, {'deleted': 0, 'change': 6})"
       ]
      }
     ],
     "prompt_number": 138
    },
    {
     "cell_type": "code",
     "collapsed": false,
     "input": [
      "update_db(\"2013-06-07\")"
     ],
     "language": "python",
     "metadata": {},
     "outputs": [
      {
       "output_type": "stream",
       "stream": "stdout",
       "text": [
        "[{'stamp': '2013-06-07', 'newid': 7930, 'type': 'change', 'oldid': 2043, 'id': '11010'}, {'stamp': '2013-06-07', 'newid': 7931, 'type': 'change', 'oldid': 3072, 'id': '8908'}, {'stamp': '2013-06-07', 'newid': 7932, 'type': 'change', 'oldid': 4522, 'id': '18227'}]\n"
       ]
      },
      {
       "metadata": {},
       "output_type": "pyout",
       "prompt_number": 139,
       "text": [
        "defaultdict(<function <lambda> at 0xd91c17c>, {'deleted': 1, 'change': 3})"
       ]
      }
     ],
     "prompt_number": 139
    },
    {
     "cell_type": "code",
     "collapsed": false,
     "input": [
      "update_db(\"2013-06-08\")"
     ],
     "language": "python",
     "metadata": {},
     "outputs": [
      {
       "output_type": "stream",
       "stream": "stdout",
       "text": [
        "[{'stamp': '2013-06-08', 'newid': 7933, 'type': 'change', 'oldid': 6277, 'id': '15020'}, {'stamp': '2013-06-08', 'newid': 7934, 'type': 'new', 'oldid': None, 'id': '15546'}, {'stamp': '2013-06-08', 'newid': 7935, 'type': 'change', 'oldid': 7263, 'id': '16034'}]\n"
       ]
      },
      {
       "metadata": {},
       "output_type": "pyout",
       "prompt_number": 140,
       "text": [
        "defaultdict(<function <lambda> at 0xbbc810c>, {'deleted': 0, 'new': 1, 'change': 2})"
       ]
      }
     ],
     "prompt_number": 140
    },
    {
     "cell_type": "code",
     "collapsed": false,
     "input": [
      "update_db(\"2013-06-11\")"
     ],
     "language": "python",
     "metadata": {},
     "outputs": [
      {
       "output_type": "stream",
       "stream": "stdout",
       "text": [
        "[{'stamp': '2013-06-11', 'newid': 7936, 'type': 'change', 'oldid': 1914, 'id': '17470'}, {'stamp': '2013-06-11', 'newid': 7937, 'type': 'change', 'oldid': 2193, 'id': '16284'}]\n"
       ]
      },
      {
       "metadata": {},
       "output_type": "pyout",
       "prompt_number": 141,
       "text": [
        "defaultdict(<function <lambda> at 0xdf5b17c>, {'deleted': 0, 'change': 2})"
       ]
      }
     ],
     "prompt_number": 141
    },
    {
     "cell_type": "code",
     "collapsed": false,
     "input": [
      "update_db(\"2013-06-12\")"
     ],
     "language": "python",
     "metadata": {},
     "outputs": [
      {
       "output_type": "stream",
       "stream": "stdout",
       "text": [
        "[{'stamp': '2013-06-12', 'newid': 7938, 'type': 'change', 'oldid': 1543, 'id': '13511'}, {'stamp': '2013-06-12', 'newid': 7939, 'type': 'change', 'oldid': 1544, 'id': '13510'}, {'stamp': '2013-06-12', 'newid': 7940, 'type': 'change', 'oldid': 2098, 'id': '14231'}, {'stamp': '2013-06-12', 'newid': 7941, 'type': 'change', 'oldid': 4478, 'id': '17920'}, {'stamp': '2013-06-12', 'newid': 7942, 'type': 'new', 'oldid': None, 'id': '16559'}]\n"
       ]
      },
      {
       "metadata": {},
       "output_type": "pyout",
       "prompt_number": 133,
       "text": [
        "defaultdict(<function <lambda> at 0xe16f294>, {'deleted': 0, 'new': 1, 'change': 5})"
       ]
      }
     ],
     "prompt_number": 133
    },
    {
     "cell_type": "code",
     "collapsed": false,
     "input": [
      "update_db(\"2013-06-13\")"
     ],
     "language": "python",
     "metadata": {},
     "outputs": [
      {
       "output_type": "stream",
       "stream": "stdout",
       "text": [
        "[{'stamp': '2013-06-13', 'newid': 7944, 'type': 'change', 'oldid': 243, 'id': '17436'}, {'stamp': '2013-06-13', 'newid': 7945, 'type': 'change', 'oldid': 7939, 'id': '13510'}, {'stamp': '2013-06-13', 'newid': 7946, 'type': 'change', 'oldid': 3244, 'id': '17072'}, {'stamp': '2013-06-13', 'newid': 7947, 'type': 'change', 'oldid': 6137, 'id': '6890'}]\n"
       ]
      },
      {
       "metadata": {},
       "output_type": "pyout",
       "prompt_number": 134,
       "text": [
        "defaultdict(<function <lambda> at 0xe22f294>, {'deleted': 0, 'change': 4})"
       ]
      }
     ],
     "prompt_number": 134
    },
    {
     "cell_type": "code",
     "collapsed": false,
     "input": [
      "update_db(\"2013-06-14\")"
     ],
     "language": "python",
     "metadata": {},
     "outputs": [
      {
       "output_type": "stream",
       "stream": "stdout",
       "text": [
        "[{'stamp': '2013-06-14', 'newid': 7938, 'type': 'new', 'oldid': None, 'id': '18690'}, {'stamp': '2013-06-14', 'newid': 7939, 'type': 'change', 'oldid': 243, 'id': '17436'}, {'stamp': '2013-06-14', 'newid': 7940, 'type': 'change', 'oldid': 1543, 'id': '13511'}, {'stamp': '2013-06-14', 'newid': 7941, 'type': 'change', 'oldid': 2098, 'id': '14231'}, {'stamp': '2013-06-14', 'newid': 7942, 'type': 'change', 'oldid': 3244, 'id': '17072'}]\n"
       ]
      },
      {
       "metadata": {},
       "output_type": "pyout",
       "prompt_number": 142,
       "text": [
        "defaultdict(<function <lambda> at 0xdf9c0d4>, {'deleted': 0, 'new': 2, 'change': 9})"
       ]
      }
     ],
     "prompt_number": 142
    },
    {
     "cell_type": "code",
     "collapsed": false,
     "input": [
      "update_db(\"2013-06-15\")"
     ],
     "language": "python",
     "metadata": {},
     "outputs": [
      {
       "output_type": "stream",
       "stream": "stdout",
       "text": [
        "[{'stamp': '2013-06-15', 'newid': 7949, 'type': 'change', 'oldid': 3887, 'id': '11897'}, {'stamp': '2013-06-15', 'newid': 7950, 'type': 'change', 'oldid': 4823, 'id': '2566'}, {'stamp': '2013-06-15', 'newid': 7951, 'type': 'change', 'oldid': 5687, 'id': '17631'}, {'stamp': '2013-06-15', 'newid': 7952, 'type': 'change', 'oldid': 6661, 'id': '17629'}, {'stamp': '2013-06-15', 'newid': 7953, 'type': 'change', 'oldid': 6703, 'id': '17630'}]\n"
       ]
      },
      {
       "metadata": {},
       "output_type": "pyout",
       "prompt_number": 143,
       "text": [
        "defaultdict(<function <lambda> at 0xe0a902c>, {'deleted': 0, 'change': 6})"
       ]
      }
     ],
     "prompt_number": 143
    },
    {
     "cell_type": "code",
     "collapsed": false,
     "input": [
      "update_db(\"2013-06-16\")"
     ],
     "language": "python",
     "metadata": {},
     "outputs": [
      {
       "output_type": "stream",
       "stream": "stdout",
       "text": [
        "[]\n"
       ]
      },
      {
       "metadata": {},
       "output_type": "pyout",
       "prompt_number": 144,
       "text": [
        "defaultdict(<function <lambda> at 0xe0c8304>, {'deleted': 0})"
       ]
      }
     ],
     "prompt_number": 144
    },
    {
     "cell_type": "code",
     "collapsed": false,
     "input": [
      "update_db(\"2013-06-18\")"
     ],
     "language": "python",
     "metadata": {},
     "outputs": [
      {
       "output_type": "stream",
       "stream": "stdout",
       "text": [
        "[{'stamp': '2013-06-18', 'newid': 7955, 'type': 'change', 'oldid': 2916, 'id': '7108'}, {'stamp': '2013-06-18', 'newid': 7956, 'type': 'change', 'oldid': 3374, 'id': '16514'}, {'stamp': '2013-06-18', 'newid': 7957, 'type': 'change', 'oldid': 5297, 'id': '14343'}, {'stamp': '2013-06-18', 'newid': 7958, 'type': 'change', 'oldid': 6563, 'id': '17701'}, {'stamp': '2013-06-18', 'newid': 7959, 'type': 'change', 'oldid': 6893, 'id': '16505'}]\n"
       ]
      },
      {
       "metadata": {},
       "output_type": "pyout",
       "prompt_number": 145,
       "text": [
        "defaultdict(<function <lambda> at 0xd51641c>, {'deleted': 0, 'change': 6})"
       ]
      }
     ],
     "prompt_number": 145
    },
    {
     "cell_type": "code",
     "collapsed": false,
     "input": [],
     "language": "python",
     "metadata": {},
     "outputs": []
    }
   ],
   "metadata": {}
  }
 ]
}