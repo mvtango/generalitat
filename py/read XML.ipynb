{
 "metadata": {
  "name": ""
 },
 "nbformat": 3,
 "nbformat_minor": 0,
 "worksheets": [
  {
   "cells": [
    {
     "cell_type": "code",
     "collapsed": false,
     "input": [
      "from scrapelib import TreeScraper\n",
      "import lxml,dumptruck,sqlite3\n",
      "store=dumptruck.DumpTruck(\"../data/organigrama.db\")\n",
      "from collections import defaultdict\n",
      "import os\n",
      "\n",
      "for t in ('entitats','canvis') :\n",
      "    store.create_table({'id' : '0' },t,create_only=True)\n",
      "\n",
      "store.create_index(['id'], 'entitats', unique = True)\n",
      "store.create_index(['id','stamp'], 'canvis', unique = True)\n",
      "store.create_index(['id'], 'canvis')\n",
      "store.create_index(['stamp'], 'canvis')"
     ],
     "language": "python",
     "metadata": {},
     "outputs": [],
     "prompt_number": 17
    },
    {
     "cell_type": "code",
     "collapsed": false,
     "input": [
      "def leer_organigrama(d, date=None) :\n",
      "\tunchanged=0\n",
      "\tchanged=0\n",
      "\tentitats=[]\n",
      "\tcanvis=[]\n",
      "\tids=[]\n",
      "\tif os.path.exists(d) :\n",
      "\t\tt=TreeScraper(d,base=lxml.etree.XMLParser)\n",
      "\t\td=date\n",
      "\telse :\n",
      "\t\tt=TreeScraper(\"../data/xml/%s-unitatssac.xml\" % d ,base=lxml.etree.XMLParser)\n",
      "\tfor e in t.extract(\"//item\",\n",
      "\t\t\t\t\t\t\t id='./id/text()',\n",
      "\t\t\t\t\t\t\t resp='./resp/text()', \n",
      "\t\t\t\t\t\t\t iddep='./iddep/text()',\n",
      "\t\t\t\t\t\t\t nom='./nom/text()',\n",
      "\t\t\t\t\t\t\t centres=('./centres/c', \n",
      "\t\t\t\t\t\t\t\t\t  { 'pob' : './pob/text()', \n",
      "\t\t\t\t\t\t\t\t\t\t'cp' : './cp/text()', \n",
      "\t\t\t\t\t\t\t\t\t\t'com' : './com/text()'}) ):\n",
      "\t\ttry :\n",
      "\t\t\thas=store.execute('select * from entitats where id=?',(e['id'],))\n",
      "\t\texcept sqlite3.OperationalError :\n",
      "\t\t\thas=[]\n",
      "\t\tif len(has)!=0 :\n",
      "\t\t\thas=has[0]\n",
      "\t\t\taction=\"change\"\n",
      "\t\telse :\n",
      "\t\t\thas=defaultdict(lambda : None)\n",
      "\t\t\taction=\"new\"\n",
      "\t\te[\"stamp\"]=d\n",
      "\t\tcr={} \n",
      "\t\tfor k in ('nom','resp','iddep','centres','id') :\n",
      "\t\t\tif (action==\"change\") :\n",
      "\t\t\t\tif has[k]!=e[k] :\n",
      "\t\t\t\t\tcr[k]={'old' : has[k], 'new' : e[k] }\n",
      "\t\t\telse :\n",
      "\t\t\t\tcr[k]={'new' : e[k] }\n",
      "\t\tif cr :\n",
      "\t\t\tcr.update(dict(nid=e['id'], \n",
      "\t\t\t\t\t\t   stamp=d,\n",
      "\t\t\t\t\t\t   oldstamp=has['stamp'],\n",
      "\t\t\t\t\t\t   action=action))\n",
      "\t\t\tcanvis.append(cr)\n",
      "\t\t\tchanged+=1\n",
      "\t\tentitats.append(e)\n",
      "\tstore.upsert(entitats,\"entitats\",commit=True)\n",
      "\tprint \"entitats stored, processing deletions\"\n",
      "\tfor s in store.execute(\"select * from entitats where not stamp = ?\", (d,)) :\n",
      "\t\tprint \"%(id)s %(nom)s\" % s\n",
      "\t\tcr={}\n",
      "\t\tfor k in ('nom','resp','iddep','centres','id') :\n",
      "\t\t\tcr[k]=s[k]\n",
      "\t\tcr[\"action\"]=\"delete\"\n",
      "\t\tcr.update(dict(nid=None, \n",
      "\t\t\t\t\t\t   stamp=d,\n",
      "\t\t\t\t\t\t   oldstamp=s['stamp'],\n",
      "\t\t\t\t\t\t   action=\"delete\"))\n",
      "\t\tcanvis.append(cr)\n",
      "\t\tstore.execute(\"delete from entitats where id=?\" , (s[\"id\"],))\t\n",
      "\tstore.insert(canvis,\"canvis\")\n",
      "\treturn (unchanged,len(canvis))\n"
     ],
     "language": "python",
     "metadata": {},
     "outputs": [],
     "prompt_number": 18
    },
    {
     "cell_type": "code",
     "collapsed": false,
     "input": [
      "leer_organigrama(\"2013-05-30\")"
     ],
     "language": "python",
     "metadata": {},
     "outputs": [
      {
       "output_type": "stream",
       "stream": "stdout",
       "text": [
        "entitats stored, processing deletions\n"
       ]
      },
      {
       "metadata": {},
       "output_type": "pyout",
       "prompt_number": 19,
       "text": [
        "(0, 7921)"
       ]
      }
     ],
     "prompt_number": 19
    },
    {
     "cell_type": "code",
     "collapsed": false,
     "input": [
      "leer_organigrama(\"2013-06-05\")"
     ],
     "language": "python",
     "metadata": {},
     "outputs": [
      {
       "output_type": "stream",
       "stream": "stdout",
       "text": [
        "entitats stored, processing deletions\n"
       ]
      },
      {
       "metadata": {},
       "output_type": "pyout",
       "prompt_number": 22,
       "text": [
        "(0, 30)"
       ]
      }
     ],
     "prompt_number": 22
    },
    {
     "cell_type": "code",
     "collapsed": false,
     "input": [
      "store.execute(\"select count(*),stamp from entitats group by stamp\")"
     ],
     "language": "python",
     "metadata": {},
     "outputs": [
      {
       "metadata": {},
       "output_type": "pyout",
       "prompt_number": 15,
       "text": [
        "[OrderedDict([(u'count(*)', 7922), (u'stamp', u'2013-06-02')])]"
       ]
      }
     ],
     "prompt_number": 15
    },
    {
     "cell_type": "code",
     "collapsed": false,
     "input": [
      "store.execute(\"select count(*),action from canvis group by action\") "
     ],
     "language": "python",
     "metadata": {},
     "outputs": [
      {
       "metadata": {},
       "output_type": "pyout",
       "prompt_number": 16,
       "text": [
        "[OrderedDict([(u'count(*)', 10), (u'action', u'change')]),\n",
        " OrderedDict([(u'count(*)', 7923), (u'action', u'new')])]"
       ]
      }
     ],
     "prompt_number": 16
    },
    {
     "cell_type": "code",
     "collapsed": false,
     "input": [
      "store.execute(\"select * from canvis where action='new' limit 2\") "
     ],
     "language": "python",
     "metadata": {},
     "outputs": [
      {
       "metadata": {},
       "output_type": "pyout",
       "prompt_number": 8,
       "text": [
        "[OrderedDict([(u'id', u'{\"new\": \"16286\"}'), (u'nom', {u'new': u' Divisi\\xf3 de la Sala Central de Bombers'}), (u'stamp', u'2013-05-30'), (u'resp', {u'new': u'Manel Bosch Serch'}), (u'nid', u'16286'), (u'centres', {u'new': [{u'pob': u'Cerdanyola del Vall\\xe8s', u'cp': u'08290', u'com': u'Vall\\xe8s Occidental'}]}), (u'iddep', {u'new': u'13760'}), (u'oldstamp', None), (u'action', u'new')]),\n",
        " OrderedDict([(u'id', u'{\"new\": \"535\"}'), (u'nom', {u'new': u'012 Atenci\\xf3 Ciutadana'}), (u'stamp', u'2013-05-30'), (u'resp', {u'new': u'null'}), (u'nid', u'535'), (u'centres', {u'new': [{u'pob': u'Catalunya', u'cp': u'null', u'com': u'Espa\\xf1a'}]}), (u'iddep', {u'new': u'6'}), (u'oldstamp', None), (u'action', u'new')])]"
       ]
      }
     ],
     "prompt_number": 8
    },
    {
     "cell_type": "code",
     "collapsed": false,
     "input": [
      "store.execute(\"select * from entitats where stamp='2013-05-30'\")"
     ],
     "language": "python",
     "metadata": {},
     "outputs": [
      {
       "metadata": {},
       "output_type": "pyout",
       "prompt_number": 9,
       "text": [
        "[OrderedDict([(u'id', u'19040'), (u'nom', u\"Comissi\\xf3 d'Experts per a la Reforma de l'Administraci\\xf3 P\\xfablica i el seu Sector P\\xfablic\"), (u'stamp', u'2013-05-30'), (u'resp', u'null'), (u'centres', [{u'pob': u'Barcelona', u'cp': u'08003', u'com': u'Barcelon\\xe8s'}]), (u'iddep', u'655')])]"
       ]
      }
     ],
     "prompt_number": 9
    },
    {
     "cell_type": "code",
     "collapsed": false,
     "input": [],
     "language": "python",
     "metadata": {},
     "outputs": []
    }
   ],
   "metadata": {}
  }
 ]
}