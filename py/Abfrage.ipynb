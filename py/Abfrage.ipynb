{
 "metadata": {
  "name": ""
 },
 "nbformat": 3,
 "nbformat_minor": 0,
 "worksheets": [
  {
   "cells": [
    {
     "cell_type": "code",
     "collapsed": false,
     "input": [
      "import dumptruck \n",
      "d=dumptruck.DumpTruck(\"../data/organigrama.db\")"
     ],
     "language": "python",
     "metadata": {},
     "outputs": [],
     "prompt_number": 12
    },
    {
     "cell_type": "code",
     "collapsed": false,
     "input": [
      "d.execute(\"select distinct stamp,count(*) as c  from canvis group by stamp\")"
     ],
     "language": "python",
     "metadata": {},
     "outputs": [
      {
       "metadata": {},
       "output_type": "pyout",
       "prompt_number": 37,
       "text": [
        "[OrderedDict([(u'stamp', u'2013-04-26'), (u'c', 7905)]),\n",
        " OrderedDict([(u'stamp', u'2013-05-26'), (u'c', 197)]),\n",
        " OrderedDict([(u'stamp', u'2013-05-28'), (u'c', 5)]),\n",
        " OrderedDict([(u'stamp', u'2013-05-29'), (u'c', 1)]),\n",
        " OrderedDict([(u'stamp', u'2013-05-30'), (u'c', 4)]),\n",
        " OrderedDict([(u'stamp', u'2013-05-31'), (u'c', 5)]),\n",
        " OrderedDict([(u'stamp', u'2013-06-01'), (u'c', 5)]),\n",
        " OrderedDict([(u'stamp', u'2013-06-04'), (u'c', 10)]),\n",
        " OrderedDict([(u'stamp', u'2013-06-05'), (u'c', 30)]),\n",
        " OrderedDict([(u'stamp', u'2013-06-06'), (u'c', 6)]),\n",
        " OrderedDict([(u'stamp', u'2013-06-07'), (u'c', 3)]),\n",
        " OrderedDict([(u'stamp', u'2013-06-08'), (u'c', 3)]),\n",
        " OrderedDict([(u'stamp', u'2013-06-11'), (u'c', 2)]),\n",
        " OrderedDict([(u'stamp', u'2013-06-12'), (u'c', 6)]),\n",
        " OrderedDict([(u'stamp', u'2013-06-13'), (u'c', 4)]),\n",
        " OrderedDict([(u'stamp', u'2013-06-14'), (u'c', 3)]),\n",
        " OrderedDict([(u'stamp', u'2013-06-15'), (u'c', 6)]),\n",
        " OrderedDict([(u'stamp', u'2013-06-18'), (u'c', 6)]),\n",
        " OrderedDict([(u'stamp', u'2013-06-19'), (u'c', 11)]),\n",
        " OrderedDict([(u'stamp', u'2013-06-20'), (u'c', 5)]),\n",
        " OrderedDict([(u'stamp', u'2013-06-21'), (u'c', 1)]),\n",
        " OrderedDict([(u'stamp', u'2013-06-22'), (u'c', 1)]),\n",
        " OrderedDict([(u'stamp', u'2013-06-26'), (u'c', 2)]),\n",
        " OrderedDict([(u'stamp', u'2013-06-27'), (u'c', 2)]),\n",
        " OrderedDict([(u'stamp', u'2013-06-28'), (u'c', 12)]),\n",
        " OrderedDict([(u'stamp', u'2013-06-29'), (u'c', 5)])]"
       ]
      }
     ],
     "prompt_number": 37
    },
    {
     "cell_type": "code",
     "collapsed": false,
     "input": [
      "d.execute(\"select distinct *  from canvis where stamp='2013-05-26' and iddep is not null\")"
     ],
     "language": "python",
     "metadata": {},
     "outputs": [
      {
       "metadata": {},
       "output_type": "pyout",
       "prompt_number": 35,
       "text": [
        "[OrderedDict([(u'id', u'{\"new\": \"16389\", \"old\": null}'), (u'nom', {u'new': u'Assessor en Mat\\xe8ria de Relacions Institucionals', u'old': None}), (u'stamp', u'2013-05-26'), (u'resp', {u'new': u'Juan Verg\\xe9s Esquena', u'old': None}), (u'nid', u'16389'), (u'centres', {u'new': [{u'pob': u'Barcelona', u'cp': u'08002', u'com': u'Barcelon\\xe8s'}], u'old': None}), (u'iddep', {u'new': u'6', u'old': None}), (u'oldstamp', None)]),\n",
        " OrderedDict([(u'id', u'{\"new\": \"19083\", \"old\": null}'), (u'nom', {u'new': u'Comissariat del Tricentenari', u'old': None}), (u'stamp', u'2013-05-26'), (u'resp', {u'new': u'Miquel Cal\\xe7ada i Olivella', u'old': None}), (u'nid', u'19083'), (u'centres', {u'new': [{u'pob': u'Barcelona', u'cp': u'08002', u'com': u'Barcelon\\xe8s'}], u'old': None}), (u'iddep', {u'new': u'6', u'old': None}), (u'oldstamp', None)]),\n",
        " OrderedDict([(u'id', u'{\"new\": \"19084\", \"old\": null}'), (u'nom', {u'new': u\"Equip Territorial de Salut P\\xfablica a l'Alt Urgell\", u'old': None}), (u'stamp', u'2013-05-26'), (u'resp', {u'new': u'null', u'old': None}), (u'nid', u'19084'), (u'centres', {u'new': [], u'old': None}), (u'iddep', {u'new': u'2803', u'old': None}), (u'oldstamp', None)]),\n",
        " OrderedDict([(u'id', u'{\"new\": \"19095\", \"old\": null}'), (u'nom', {u'new': u\"Equip Territorial de Salut P\\xfablica a l'Urgell\", u'old': None}), (u'stamp', u'2013-05-26'), (u'resp', {u'new': u'null', u'old': None}), (u'nid', u'19095'), (u'centres', {u'new': [{u'pob': u'T\\xe0rrega', u'cp': u'null', u'com': u'Urgell'}], u'old': None}), (u'iddep', {u'new': u'2803', u'old': None}), (u'oldstamp', None)]),\n",
        " OrderedDict([(u'id', u'{\"new\": \"19097\", \"old\": null}'), (u'nom', {u'new': u'Equip Territorial de Salut P\\xfablica a la Noguera', u'old': None}), (u'stamp', u'2013-05-26'), (u'resp', {u'new': u'null', u'old': None}), (u'nid', u'19097'), (u'centres', {u'new': [{u'pob': u'Balaguer', u'cp': u'25600', u'com': u'Noguera'}], u'old': None}), (u'iddep', {u'new': u'2803', u'old': None}), (u'oldstamp', None)]),\n",
        " OrderedDict([(u'id', u'{\"new\": \"19100\", \"old\": null}'), (u'nom', {u'new': u\"Equip Territorial de Salut P\\xfablica a la Ribera d'Ebre\", u'old': None}), (u'stamp', u'2013-05-26'), (u'resp', {u'new': u'null', u'old': None}), (u'nid', u'19100'), (u'centres', {u'new': [{u'pob': u\"M\\xf3ra d'Ebre\", u'cp': u'43740', u'com': u\"Ribera d'Ebre\"}], u'old': None}), (u'iddep', {u'new': u'2803', u'old': None}), (u'oldstamp', None)]),\n",
        " OrderedDict([(u'id', u'{\"new\": \"19096\", \"old\": null}'), (u'nom', {u'new': u'Equip Territorial de Salut P\\xfablica a la Segarra', u'old': None}), (u'stamp', u'2013-05-26'), (u'resp', {u'new': u'null', u'old': None}), (u'nid', u'19096'), (u'centres', {u'new': [{u'pob': u'Cervera', u'cp': u'25200', u'com': u'Segarra'}], u'old': None}), (u'iddep', {u'new': u'2803', u'old': None}), (u'oldstamp', None)]),\n",
        " OrderedDict([(u'id', u'{\"new\": \"19099\", \"old\": null}'), (u'nom', {u'new': u'Equip Territorial de Salut P\\xfablica a la Terra Alta', u'old': None}), (u'stamp', u'2013-05-26'), (u'resp', {u'new': u'null', u'old': None}), (u'nid', u'19099'), (u'centres', {u'new': [{u'pob': u'Gandesa', u'cp': u'43780', u'com': u'Terra Alta'}], u'old': None}), (u'iddep', {u'new': u'2803', u'old': None}), (u'oldstamp', None)]),\n",
        " OrderedDict([(u'id', u'{\"new\": \"19101\", \"old\": null}'), (u'nom', {u'new': u'Equip Territorial de Salut P\\xfablica al Baix Ebre', u'old': None}), (u'stamp', u'2013-05-26'), (u'resp', {u'new': u'null', u'old': None}), (u'nid', u'19101'), (u'centres', {u'new': [], u'old': None}), (u'iddep', {u'new': u'2803', u'old': None}), (u'oldstamp', None)]),\n",
        " OrderedDict([(u'id', u'{\"new\": \"19091\", \"old\": null}'), (u'nom', {u'new': u'Equip Territorial de Salut P\\xfablica al Baix Pened\\xe8s', u'old': None}), (u'stamp', u'2013-05-26'), (u'resp', {u'new': u'null', u'old': None}), (u'nid', u'19091'), (u'centres', {u'new': [{u'pob': u'Calafell', u'cp': u'43820', u'com': u'Baix Pened\\xe8s'}], u'old': None}), (u'iddep', {u'new': u'2803', u'old': None}), (u'oldstamp', None)]),\n",
        " OrderedDict([(u'id', u'{\"new\": \"19102\", \"old\": null}'), (u'nom', {u'new': u'Equip Territorial de Salut P\\xfablica al Montsi\\xe0', u'old': None}), (u'stamp', u'2013-05-26'), (u'resp', {u'new': u'null', u'old': None}), (u'nid', u'19102'), (u'centres', {u'new': [{u'pob': u'Amposta', u'cp': u'43870', u'com': u'Montsi\\xe0'}], u'old': None}), (u'iddep', {u'new': u'2803', u'old': None}), (u'oldstamp', None)]),\n",
        " OrderedDict([(u'id', u'{\"new\": \"19086\", \"old\": null}'), (u'nom', {u'new': u'Equip Territorial de Salut P\\xfablica al Pallars Juss\\xe0', u'old': None}), (u'stamp', u'2013-05-26'), (u'resp', {u'new': u'null', u'old': None}), (u'nid', u'19086'), (u'centres', {u'new': [{u'pob': u'Tremp', u'cp': u'25620', u'com': u'Pallars Juss\\xe0'}], u'old': None}), (u'iddep', {u'new': u'2803', u'old': None}), (u'oldstamp', None)]),\n",
        " OrderedDict([(u'id', u'{\"new\": \"19087\", \"old\": null}'), (u'nom', {u'new': u'Equip Territorial de Salut P\\xfablica al Pallars Sobir\\xe0', u'old': None}), (u'stamp', u'2013-05-26'), (u'resp', {u'new': u'null', u'old': None}), (u'nid', u'19087'), (u'centres', {u'new': [], u'old': None}), (u'iddep', {u'new': u'2803', u'old': None}), (u'oldstamp', None)]),\n",
        " OrderedDict([(u'id', u'{\"new\": \"19085\", \"old\": null}'), (u'nom', {u'new': u'Equip Territorial de Salut P\\xfablica de la Cerdanya', u'old': None}), (u'stamp', u'2013-05-26'), (u'resp', {u'new': u'null', u'old': None}), (u'nid', u'19085'), (u'centres', {u'new': [{u'pob': u\"La Seu d'Urgell\", u'cp': u'25700', u'com': u'Alt Urgell'}], u'old': None}), (u'iddep', {u'new': u'2803', u'old': None}), (u'oldstamp', None)]),\n",
        " OrderedDict([(u'id', u'{\"new\": \"19048\", \"old\": null}'), (u'nom', {u'new': u'Oficina de Benestar Social i Fam\\xedlia de Banyoles', u'old': None}), (u'stamp', u'2013-05-26'), (u'resp', {u'new': u'null', u'old': None}), (u'nid', u'19048'), (u'centres', {u'new': [{u'pob': u'Banyoles', u'cp': u'17820', u'com': u\"Pla de l'Estany\"}], u'old': None}), (u'iddep', {u'new': u'5823', u'old': None}), (u'oldstamp', None)]),\n",
        " OrderedDict([(u'id', u'{\"new\": \"19049\", \"old\": null}'), (u'nom', {u'new': u\"Oficina de Benestar Social i Fam\\xedlia de Castell - Platja d'Aro\", u'old': None}), (u'stamp', u'2013-05-26'), (u'resp', {u'new': u'null', u'old': None}), (u'nid', u'19049'), (u'centres', {u'new': [{u'pob': u\"Castell-Platja d'Aro\", u'cp': u'17250', u'com': u'Baix Empord\\xe0'}], u'old': None}), (u'iddep', {u'new': u'5823', u'old': None}), (u'oldstamp', None)]),\n",
        " OrderedDict([(u'id', u'{\"new\": \"19050\", \"old\": null}'), (u'nom', {u'new': u'Oficina de Benestar Social i Fam\\xedlia de Gandesa', u'old': None}), (u'stamp', u'2013-05-26'), (u'resp', {u'new': u'null', u'old': None}), (u'nid', u'19050'), (u'centres', {u'new': [{u'pob': u'Gandesa', u'cp': u'43780', u'com': u'Terra Alta'}], u'old': None}), (u'iddep', {u'new': u'5823', u'old': None}), (u'oldstamp', None)]),\n",
        " OrderedDict([(u'id', u'{\"new\": \"19051\", \"old\": null}'), (u'nom', {u'new': u'Oficina de Benestar Social i Fam\\xedlia de Guissona', u'old': None}), (u'stamp', u'2013-05-26'), (u'resp', {u'new': u'null', u'old': None}), (u'nid', u'19051'), (u'centres', {u'new': [{u'pob': u'Guissona', u'cp': u'25210', u'com': u'Segarra'}], u'old': None}), (u'iddep', {u'new': u'5823', u'old': None}), (u'oldstamp', None)]),\n",
        " OrderedDict([(u'id', u'{\"new\": \"19052\", \"old\": null}'), (u'nom', {u'new': u'Oficina de Benestar Social i Fam\\xedlia de Montblanc', u'old': None}), (u'stamp', u'2013-05-26'), (u'resp', {u'new': u'null', u'old': None}), (u'nid', u'19052'), (u'centres', {u'new': [{u'pob': u'Montblanc', u'cp': u'43400', u'com': u'Conca de Barber\\xe0'}], u'old': None}), (u'iddep', {u'new': u'5823', u'old': None}), (u'oldstamp', None)]),\n",
        " OrderedDict([(u'id', u'{\"new\": \"19053\", \"old\": null}'), (u'nom', {u'new': u'Oficina de Benestar Social i Fam\\xedlia de Sant Feliu de Gu\\xedxols', u'old': None}), (u'stamp', u'2013-05-26'), (u'resp', {u'new': u'null', u'old': None}), (u'nid', u'19053'), (u'centres', {u'new': [{u'pob': u'Sant Feliu de Gu\\xedxols', u'cp': u'17220', u'com': u'Baix Empord\\xe0'}], u'old': None}), (u'iddep', {u'new': u'5823', u'old': None}), (u'oldstamp', None)]),\n",
        " OrderedDict([(u'id', u'{\"new\": \"17548\", \"old\": null}'), (u'nom', {u'new': u\"Responsable de Suport de l'\\xc0rea d'Operacions (DGPEIS)\", u'old': None}), (u'stamp', u'2013-05-26'), (u'resp', {u'new': u'Albert Capeta Castillo', u'old': None}), (u'nid', u'17548'), (u'centres', {u'new': [{u'pob': u'Cerdanyola del Vall\\xe8s', u'cp': u'08290', u'com': u'Vall\\xe8s Occidental'}], u'old': None}), (u'iddep', {u'new': u'13760', u'old': None}), (u'oldstamp', None)]),\n",
        " OrderedDict([(u'id', u'{\"new\": \"19054\", \"old\": null}'), (u'nom', {u'new': u\"Servei Territorial del Barcelones-Nord del Servei d'Ocupaci\\xf3 de Catalunya (SOC)\", u'old': None}), (u'stamp', u'2013-05-26'), (u'resp', {u'new': u'Jos\\xe9 Luque Fern\\xe1ndez', u'old': None}), (u'nid', u'19054'), (u'centres', {u'new': [{u'pob': u'Barcelona', u'cp': u'08019', u'com': u'Barcelon\\xe8s'}], u'old': None}), (u'iddep', {u'new': u'15638', u'old': None}), (u'oldstamp', None)]),\n",
        " OrderedDict([(u'id', u'{\"new\": \"19055\", \"old\": null}'), (u'nom', {u'new': u\"Servei Territorial del Barcelones-Sud del Servei d'Ocupaci\\xf3 de Catalunya (SOC)\", u'old': None}), (u'stamp', u'2013-05-26'), (u'resp', {u'new': u'Antonia Miranda Casanovas', u'old': None}), (u'nid', u'19055'), (u'centres', {u'new': [{u'pob': u'Barcelona', u'cp': u'08019', u'com': u'Barcelon\\xe8s'}], u'old': None}), (u'iddep', {u'new': u'15638', u'old': None}), (u'oldstamp', None)]),\n",
        " OrderedDict([(u'id', u'{\"new\": \"19057\", \"old\": null}'), (u'nom', {u'new': u\"Servei de Verificaci\\xf3 Administrativa i Justificaci\\xf3 Econ\\xf2mica del Servei d'Ocupaci\\xf3 de Catalunya (SOC)\", u'old': None}), (u'stamp', u'2013-05-26'), (u'resp', {u'new': u'Silvia Marchena Morales', u'old': None}), (u'nid', u'19057'), (u'centres', {u'new': [{u'pob': u'Barcelona', u'cp': u'08019', u'com': u'Barcelon\\xe8s'}], u'old': None}), (u'iddep', {u'new': u'15638', u'old': None}), (u'oldstamp', None)]),\n",
        " OrderedDict([(u'id', u'{\"new\": \"19056\", \"old\": null}'), (u'nom', {u'new': u\"Servei de Verificaci\\xf3 sobre el Terreny del Servei d'Ocupaci\\xf3 de Catalunya (SOC)\", u'old': None}), (u'stamp', u'2013-05-26'), (u'resp', {u'new': u'Clemente Acedo Crespo', u'old': None}), (u'nid', u'19056'), (u'centres', {u'new': [{u'pob': u'Barcelona', u'cp': u'08019', u'com': u'Barcelon\\xe8s'}], u'old': None}), (u'iddep', {u'new': u'15638', u'old': None}), (u'oldstamp', None)])]"
       ]
      }
     ],
     "prompt_number": 35
    },
    {
     "cell_type": "code",
     "collapsed": false,
     "input": [
      " \n"
     ],
     "language": "python",
     "metadata": {},
     "outputs": []
    }
   ],
   "metadata": {}
  }
 ]
}