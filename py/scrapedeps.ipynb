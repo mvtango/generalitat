{
 "metadata": {
  "name": ""
 },
 "nbformat": 3,
 "nbformat_minor": 0,
 "worksheets": [
  {
   "cells": [
    {
     "cell_type": "code",
     "collapsed": false,
     "input": [
      "from scrapelib import TreeScraper\n",
      "d=TreeScraper(\"http://www10.gencat.cat/sac/AppJava/organisme_fitxa.jsp?codi=51\")\n",
      "d.extract(\"div#contingut\",titulo=\".//h3/text()\",mapa=\".//a[@class='mapa']/@href\",\n",
      "          resp=\".//div[@class='esquerra' and contains(.//text(),'Responsable')]/../div[@class='columna2']/text()\",\n",
      "          carreg=u\".//div[@class='esquerra' and contains(.//text(),'C\u00e0rrec')]/../div[@class='columna2']/text()\",\n",
      "          address=u\".//div[@class='esquerra' and contains(.//text(),'Adre\u00e7a')]/../div[@class='columna2']/text()\",\n",
      "          tel=u\".//div[@class='esquerra' and contains(.//text(),'Tel\u00e8fon')]/../div[@class='columna2']/text()\",\n",
      "          fax=u\".//div[@class='esquerra' and contains(.//text(),'Fax')]/../div[@class='columna2']/text()\",\n",
      "          pob=u\".//div[@class='esquerra' and contains(.//text(),'Poblaci\u00f3')]/../div[@class='columna2']/text()\",\n",
      "          email=u\".//div[@class='esquerra' and contains(.//text(),'Contacte')]/../div[@class='columna2']/a/text()\",\n",
      "          desc=u\".//div[@class='esquerra' and contains(.//text(),'Funcions')]/../div[@class='columna2']/text()\",\n",
      "          normativa=u\".//div[@class='esquerra' and contains(.//text(),'Normativa')]/../div[@class='columna2']/ul/li/a\",\n",
      "          update=u\".//div[contains(@class,'fecha') and contains(./text(),'actualitzaci\u00f3')]/text()\"\n",
      "          )"
     ],
     "language": "python",
     "metadata": {},
     "outputs": [
      {
       "metadata": {},
       "output_type": "pyout",
       "prompt_number": 48,
       "text": [
        "[{'address': u'Carrer\\xa0de Sant Honorat, 1-3',\n",
        "  'carreg': \"Subdirector General d'Obres i Serveis\",\n",
        "  'desc': [u\"Supervisar la redacci\\xf3 dels projectes i estudis t\\xe8cnics i l'execuci\\xf3 de les obres que afecten el conjunt d'edificis del Departament.\",\n",
        "   u\"Supervisar la programaci\\xf3 del manteniment preventiu, normatiu i correctiu en el conjunt d'edificis del Departament d'acord amb els diversos usos previstos.\",\n",
        "   'Programar i controlar el pressupost propi destinat a obres, manteniment i serveis. ',\n",
        "   'Supervisar els serveis generals interns de majordomia, telefonia i correus i els serveis externs de neteja, missatgeria, transports i altres similars dels edificis del Departament.',\n",
        "   u\"Impulsar i supervisar la gesti\\xf3 dels contractes d'obres, manteniment, serveis i subministrament referents a l'\\xe0mbit d'actuaci\\xf3 de la Subdirecci\\xf3 General d'Obres i Serveis.\",\n",
        "   u'Coordinar el suport log\\xedstic i t\\xe8cnic als actes protocol\\xb7laris i de representaci\\xf3 del Govern al Palau de la Generalitat i altres edificis del Departament.',\n",
        "   u\"Supervisar la gesti\\xf3 dels b\\xe9ns d'especial inter\\xe8s art\\xedstic i patrimonial del Palau de la Generalitat i altres edificis del Departament.\",\n",
        "   u'Programar els serveis de vigil\\xe0ncia privada i les instal\\xb7lacions de seguretat en els edificis del Departament.',\n",
        "   u'Les altres gestions de naturalesa an\\xe0loga que li siguin encomanades.'],\n",
        "  'email': 'sgos.presidencia@gencat.cat',\n",
        "  'fax': '93 402 46 75',\n",
        "  'mapa': 'http://mercuri.icc.es?zoom=7&base=m&CONSULTA=Carrer%20de Sant Honorat, 1-3&XYADDRESS=431228.121:4581775.588',\n",
        "  'normativa': <a href=\"http://www20.gencat.cat/portal/site/portaldogc/template.PAGE/menuitem.c973d2fc58aa0083e4492d92b0c0e1a0/?javax.portlet.tpst=0cabbdc23d3d48ca42a538bab0c0e1a0&amp;javax.portlet.prp_0cabbdc23d3d48ca42a538bab0c0e1a0=action=fitxa&amp;documentId=629713\">DECRET 118/2013, de 26 de febrer, de reestructuraci&#243; del Departament de la Presid&#232;ncia.</a>\n",
        "\t\t\t\t\t\t\t\t\t\t(DOGC n&#250;m. 6325)\n",
        "\t\t\t\t\t\t\t\t\t,\n",
        "  'pob': u'08002\\xa0Barcelona',\n",
        "  'resp': u'Sr. \\xa0\\n\\t\\t\\t\\t\\t\\t\\tMiquel Angel Ramos Santiago',\n",
        "  'tel': '93 402 46 00',\n",
        "  'titulo': u\"Subdirecci\\xf3 General d'Obres i Serveis\",\n",
        "  'update': u' data actualitzaci\\xf3 (04/06/2013) '}]"
       ]
      }
     ],
     "prompt_number": 48
    },
    {
     "cell_type": "code",
     "collapsed": false,
     "input": [
      "d=TreeScraper(\"http://www10.gencat.cat/sac/AppJava/organisme_fitxa.jsp?codi=18273\")\n",
      "d.extract(\"div#contingut\",titulo=\".//h3/text()\",mapa=\".//a[@class='mapa']/@href\",\n",
      "          resp=\".//div[@class='esquerra' and contains(.//text(),'Responsable')]/../div[@class='columna2']/text()\",\n",
      "          carreg=u\".//div[@class='esquerra' and contains(.//text(),'C\u00e0rrec')]/../div[@class='columna2']/text()\",\n",
      "          address=u\".//div[@class='esquerra' and contains(.//text(),'Adre\u00e7a')]/../div[@class='columna2']/text()\",\n",
      "          tel=u\".//div[@class='esquerra' and contains(.//text(),'Tel\u00e8fon')]/../div[@class='columna2']/text()\",\n",
      "          fax=u\".//div[@class='esquerra' and contains(.//text(),'Fax')]/../div[@class='columna2']/text()\",\n",
      "          pob=u\".//div[@class='esquerra' and contains(.//text(),'Poblaci\u00f3')]/../div[@class='columna2']/text()\",\n",
      "          email=u\".//div[@class='esquerra' and contains(.//text(),'Contacte')]/../div[@class='columna2']/a/text()\",\n",
      "          desc=u\".//div[@class='esquerra' and contains(.//text(),'Funcions')]/../div[@class='columna2']/text()\",\n",
      "          normativa=u\".//div[@class='esquerra' and contains(.//text(),'Normativa')]/../div[@class='columna2']/ul/li/a\",\n",
      "          update=u\".//div[contains(@class,'fecha') and contains(./text(),'actualitzaci\u00f3')]/text()\"\n",
      "          )"
     ],
     "language": "python",
     "metadata": {},
     "outputs": [
      {
       "metadata": {},
       "output_type": "pyout",
       "prompt_number": 49,
       "text": [
        "[{'address': u'Carrer\\xa0del Dr. Roux, 80',\n",
        "  'carreg': 'Subdirector general',\n",
        "  'desc': [u'Elaborar directrius relatives a la biodiversitat, respectant les que pugui establir el departament competent en mat\\xe8ria de planificaci\\xf3 ambiental.',\n",
        "   'Executar els programes relatius a la biodiversitat.',\n",
        "   u'Avaluar el grau de conservaci\\xf3 i de protecci\\xf3 de la biodiversitat i assumir la seva retauraci\\xf3 i milora.',\n",
        "   u'Formular i executar els plans especials als quals fa refer\\xe8ncia la normativa sectorial.',\n",
        "   u\"Executar el desplegament del Pla d'espais d'inter\\xe8s natural i de l'Estrat\\xe8gia Catalana de Conservaci\\xf3 i \\xdas Sostenible de la Diversitat Biol\\xf2gica, i gestionar el sistema d'informaci\\xf3 sobre el medi natural.\",\n",
        "   u\"Aplicar les directrius i les pol\\xedtiques i coordinar l'actuaci\\xf3 del Departament amb els organismes i institucions implicats en mat\\xe8ria d'esp\\xe8cies protegides i animals de companyia.\",\n",
        "   u\"Donar suport a la Pon\\xe8ncia Ambiental en els procedimetns d'avaluaci\\xf3 ambiental de plans i programes sectorials de l'\\xe0mbit competencial del Departament.\",\n",
        "   u'Qualsevol altra funci\\xf3 de naturalesa an\\xe0loga que se li encomani.'],\n",
        "  'email': 'irodriguezg@gencat.cat',\n",
        "  'fax': '93 280 33 20',\n",
        "  'mapa': 'http://mercuri.icc.es?zoom=7&base=m&CONSULTA=Carrer%20del Dr. Roux, 80&XYADDRESS=427252.347216828:4583708.13214598',\n",
        "  'normativa': <a href=\"http://www.gencat.net/diari/5877/11126032.htm\">DECRET 336/2011, de 10 de maig, de reestructuraci&#243; del Departament d'Agricultura, Ramaderia, Pesca, Alimentaci&#243; i Medi Natural.</a>\n",
        "\t\t\t\t\t\t\t\t\t\t(DOGC n&#250;m. 5877)\n",
        "\t\t\t\t\t\t\t\t\t,\n",
        "  'pob': u'08017\\xa0Barcelona',\n",
        "  'resp': u'Sr. \\xa0\\n\\t\\t\\t\\t\\t\\t\\tIgnasi Rodr\\xedguez Galindo',\n",
        "  'tel': '93 567 42 00',\n",
        "  'titulo': u'Subdirecci\\xf3 General de la Biodiversitat',\n",
        "  'update': u' data actualitzaci\\xf3 (20/02/2013) '}]"
       ]
      }
     ],
     "prompt_number": 49
    },
    {
     "cell_type": "code",
     "collapsed": false,
     "input": [],
     "language": "python",
     "metadata": {},
     "outputs": []
    }
   ],
   "metadata": {}
  }
 ]
}